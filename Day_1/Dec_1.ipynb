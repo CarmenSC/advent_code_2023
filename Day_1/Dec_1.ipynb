{
 "cells": [
  {
   "cell_type": "code",
   "execution_count": 45,
   "metadata": {},
   "outputs": [],
   "source": [
    "import numpy as np\n",
    "import pandas as pd\n",
    "import re\n"
   ]
  },
  {
   "cell_type": "markdown",
   "metadata": {},
   "source": [
    "# Loading data"
   ]
  },
  {
   "cell_type": "code",
   "execution_count": 46,
   "metadata": {},
   "outputs": [],
   "source": [
    "file_path = 'data/input.txt'  # Replace with the actual file path\n",
    "with open(file_path, 'r') as file:\n",
    "    file_data = file.readlines()\n"
   ]
  },
  {
   "cell_type": "code",
   "execution_count": 52,
   "metadata": {},
   "outputs": [
    {
     "data": {
      "text/plain": [
       "1000"
      ]
     },
     "execution_count": 52,
     "metadata": {},
     "output_type": "execute_result"
    }
   ],
   "source": [
    "len(file_data)\n"
   ]
  },
  {
   "cell_type": "markdown",
   "metadata": {},
   "source": [
    "# Part 1"
   ]
  },
  {
   "cell_type": "code",
   "execution_count": 47,
   "metadata": {},
   "outputs": [],
   "source": [
    "def extract_and_sum_calibration_values(data_lines):\n",
    "    total_sum = 0\n",
    "    for line in data_lines:\n",
    "        # Removing newline characters and extracting digits\n",
    "        cleaned_line = line.strip()\n",
    "        digits = [int(char) for char in cleaned_line if char.isdigit()]\n",
    "\n",
    "        if digits:\n",
    "            # Combining the first and last digit to form a two-digit number\n",
    "            calibration_value = int(f\"{digits[0]}{digits[-1]}\")\n",
    "            total_sum += calibration_value\n",
    "\n",
    "    return total_sum\n"
   ]
  },
  {
   "cell_type": "code",
   "execution_count": 48,
   "metadata": {},
   "outputs": [
    {
     "data": {
      "text/plain": [
       "54634"
      ]
     },
     "execution_count": 48,
     "metadata": {},
     "output_type": "execute_result"
    }
   ],
   "source": [
    "\n",
    "# Calculating the total calibration value\n",
    "total_calibration_value = extract_and_sum_calibration_values(file_data)\n",
    "\n",
    "total_calibration_value\n"
   ]
  },
  {
   "cell_type": "markdown",
   "metadata": {},
   "source": [
    "# Part two"
   ]
  },
  {
   "cell_type": "code",
   "execution_count": 66,
   "metadata": {},
   "outputs": [],
   "source": [
    "def process_line_part_two(line):\n",
    "    number_map_part_two = {\n",
    "        'one': 'o1e', 'two': 't2o', 'three': 't3e', 'four': 'f4r',\n",
    "        'five': 'f5e', 'six': 's6x', 'seven': 's7n', 'eight': 'e8t', 'nine': 'n9e'\n",
    "    }\n",
    "\n",
    "    # Replace spelled-out numbers with their corresponding digits\n",
    "    for word, digit in number_map_part_two.items():\n",
    "        line = line.replace(word, digit)\n",
    "\n",
    "    # Extract all digits from the modified line\n",
    "    digits = re.findall(r'\\d', line)\n",
    "\n",
    "    if len(digits) == 1:\n",
    "        # If there is only one digit, it is used for both the first and last digit\n",
    "        return int(f\"{digits[0]}{digits[0]}\")\n",
    "    elif digits:\n",
    "        # Use the first and last digit\n",
    "        return int(f\"{digits[0]}{digits[-1]}\")\n",
    "    else:\n",
    "        return 0\n"
   ]
  },
  {
   "cell_type": "code",
   "execution_count": 69,
   "metadata": {},
   "outputs": [
    {
     "data": {
      "text/plain": [
       "53855"
      ]
     },
     "execution_count": 69,
     "metadata": {},
     "output_type": "execute_result"
    }
   ],
   "source": [
    "total_sum_part_two = sum(process_line_part_two(line) for line in file_data)\n",
    "total_sum_part_two\n"
   ]
  }
 ],
 "metadata": {
  "kernelspec": {
   "display_name": "lewagon",
   "language": "python",
   "name": "python3"
  },
  "language_info": {
   "codemirror_mode": {
    "name": "ipython",
    "version": 3
   },
   "file_extension": ".py",
   "mimetype": "text/x-python",
   "name": "python",
   "nbconvert_exporter": "python",
   "pygments_lexer": "ipython3",
   "version": "3.10.6"
  }
 },
 "nbformat": 4,
 "nbformat_minor": 2
}
